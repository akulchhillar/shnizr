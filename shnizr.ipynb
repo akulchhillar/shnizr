{
 "cells": [
  {
   "cell_type": "code",
   "execution_count": null,
   "metadata": {},
   "outputs": [],
   "source": [
    "import random\n",
    "import tweepy\n",
    "from brainyquote import pybrainyquote\n",
    "import time\n",
    " \n",
    "auth = tweepy.OAuthHandler(\"#####\",\"#####\")\n",
    "auth.set_access_token(\"####\",\"####\")\n",
    "api= tweepy.API(auth)\n",
    "while True:\n",
    "    z = pybrainyquote.get_random_quote()\n",
    "    tweet = str(z[0]) + \" \" + \"#shnizrthebot\"\n",
    "    if len(tweet)>=280:\n",
    "        z=pybrainyquote.get_random_quote()\n",
    "    else:\n",
    "        try:\n",
    "          api.update_status(tweet)\n",
    "          time.sleep(3600)\n",
    "        except:\n",
    "          z=pybrainyquote.get_random_quote()"
   ]
  }
 ],
 "metadata": {
  "kernelspec": {
   "display_name": "Python 2",
   "language": "python",
   "name": "python2"
  },
  "language_info": {
   "codemirror_mode": {
    "name": "ipython",
    "version": 2
   },
   "file_extension": ".py",
   "mimetype": "text/x-python",
   "name": "python",
   "nbconvert_exporter": "python",
   "pygments_lexer": "ipython2",
   "version": "2.7.14"
  }
 },
 "nbformat": 4,
 "nbformat_minor": 2
}
